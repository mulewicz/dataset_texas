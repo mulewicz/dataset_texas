{
 "cells": [
  {
   "cell_type": "code",
   "execution_count": 10,
   "metadata": {
    "_cell_guid": "b1076dfc-b9ad-4769-8c92-a6c4dae69d19",
    "_uuid": "8f2839f25d086af736a60e9eeb907d3b93b6e0e5",
    "execution": {
     "iopub.execute_input": "2022-05-20T20:04:07.669815Z",
     "iopub.status.busy": "2022-05-20T20:04:07.667679Z",
     "iopub.status.idle": "2022-05-20T20:04:07.690118Z",
     "shell.execute_reply": "2022-05-20T20:04:07.688123Z",
     "shell.execute_reply.started": "2022-05-20T20:04:07.669751Z"
    }
   },
   "outputs": [],
   "source": [
    "import numpy as np # linear algebra\n",
    "import pandas as pd # data processing, CSV file I/O (e.g. pd.read_csv)\n",
    "import seaborn as sns\n",
    "\n",
    "\n",
    "import os\n",
    "for dirname, _, filenames in os.walk('/kaggle/input'):\n",
    "    for filename in filenames:\n",
    "        print(os.path.join(dirname, filename))"
   ]
  },
  {
   "cell_type": "code",
   "execution_count": 11,
   "metadata": {
    "execution": {
     "iopub.execute_input": "2022-05-20T20:04:09.364319Z",
     "iopub.status.busy": "2022-05-20T20:04:09.364045Z",
     "iopub.status.idle": "2022-05-20T20:04:09.376837Z",
     "shell.execute_reply": "2022-05-20T20:04:09.375860Z",
     "shell.execute_reply.started": "2022-05-20T20:04:09.364292Z"
    }
   },
   "outputs": [],
   "source": [
    "last_words = pd.read_csv(\"C:/Users/e u n o i a/Downloads/archive (1)/death-row.csv\")"
   ]
  },
  {
   "cell_type": "code",
   "execution_count": 12,
   "metadata": {
    "execution": {
     "iopub.execute_input": "2022-05-20T20:04:09.869965Z",
     "iopub.status.busy": "2022-05-20T20:04:09.869688Z",
     "iopub.status.idle": "2022-05-20T20:04:09.877727Z",
     "shell.execute_reply": "2022-05-20T20:04:09.876813Z",
     "shell.execute_reply.started": "2022-05-20T20:04:09.869940Z"
    }
   },
   "outputs": [],
   "source": [
    "reason = pd.read_csv(\"C:/Users/e u n o i a/Downloads/archive (1)/not-on-death-row.csv\")"
   ]
  },
  {
   "cell_type": "markdown",
   "metadata": {},
   "source": [
    "LAST WORDS"
   ]
  },
  {
   "cell_type": "code",
   "execution_count": 13,
   "metadata": {
    "execution": {
     "iopub.execute_input": "2022-05-20T20:04:10.195125Z",
     "iopub.status.busy": "2022-05-20T20:04:10.194854Z",
     "iopub.status.idle": "2022-05-20T20:04:10.211548Z",
     "shell.execute_reply": "2022-05-20T20:04:10.210678Z",
     "shell.execute_reply.started": "2022-05-20T20:04:10.195097Z"
    }
   },
   "outputs": [
    {
     "data": {
      "text/html": [
       "<div>\n",
       "<style scoped>\n",
       "    .dataframe tbody tr th:only-of-type {\n",
       "        vertical-align: middle;\n",
       "    }\n",
       "\n",
       "    .dataframe tbody tr th {\n",
       "        vertical-align: top;\n",
       "    }\n",
       "\n",
       "    .dataframe thead th {\n",
       "        text-align: right;\n",
       "    }\n",
       "</style>\n",
       "<table border=\"1\" class=\"dataframe\">\n",
       "  <thead>\n",
       "    <tr style=\"text-align: right;\">\n",
       "      <th></th>\n",
       "      <th>TDCJ Number</th>\n",
       "      <th>Link</th>\n",
       "      <th>Last Name</th>\n",
       "      <th>First Name</th>\n",
       "      <th>Date of Birth</th>\n",
       "      <th>Gender</th>\n",
       "      <th>Race</th>\n",
       "      <th>Date Received</th>\n",
       "      <th>County</th>\n",
       "      <th>Date of Offense</th>\n",
       "    </tr>\n",
       "  </thead>\n",
       "  <tbody>\n",
       "    <tr>\n",
       "      <th>0</th>\n",
       "      <td>999606</td>\n",
       "      <td>Offender Information</td>\n",
       "      <td>Colone</td>\n",
       "      <td>Joseph</td>\n",
       "      <td>08/13/1978</td>\n",
       "      <td>M</td>\n",
       "      <td>Black</td>\n",
       "      <td>05/09/2017</td>\n",
       "      <td>Jefferson</td>\n",
       "      <td>07/31/2010</td>\n",
       "    </tr>\n",
       "    <tr>\n",
       "      <th>1</th>\n",
       "      <td>999605</td>\n",
       "      <td>Offender Information</td>\n",
       "      <td>Falk</td>\n",
       "      <td>John</td>\n",
       "      <td>11/19/1966</td>\n",
       "      <td>M</td>\n",
       "      <td>White</td>\n",
       "      <td>03/01/2017</td>\n",
       "      <td>Walker</td>\n",
       "      <td>09/24/2007</td>\n",
       "    </tr>\n",
       "    <tr>\n",
       "      <th>2</th>\n",
       "      <td>999604</td>\n",
       "      <td>Offender Information</td>\n",
       "      <td>Wells, III</td>\n",
       "      <td>Amos</td>\n",
       "      <td>08/20/1990</td>\n",
       "      <td>M</td>\n",
       "      <td>Black</td>\n",
       "      <td>11/22/2016</td>\n",
       "      <td>Tarrant</td>\n",
       "      <td>07/01/2013</td>\n",
       "    </tr>\n",
       "    <tr>\n",
       "      <th>3</th>\n",
       "      <td>999603</td>\n",
       "      <td>Offender Information</td>\n",
       "      <td>Brownlow</td>\n",
       "      <td>Charles</td>\n",
       "      <td>09/16/1977</td>\n",
       "      <td>M</td>\n",
       "      <td>Black</td>\n",
       "      <td>05/23/2016</td>\n",
       "      <td>Kaufman</td>\n",
       "      <td>10/28/2013</td>\n",
       "    </tr>\n",
       "    <tr>\n",
       "      <th>4</th>\n",
       "      <td>999602</td>\n",
       "      <td>Offender Information</td>\n",
       "      <td>Bluntson</td>\n",
       "      <td>Demond</td>\n",
       "      <td>11/25/1975</td>\n",
       "      <td>M</td>\n",
       "      <td>Black</td>\n",
       "      <td>05/10/2016</td>\n",
       "      <td>Webb</td>\n",
       "      <td>06/19/2012</td>\n",
       "    </tr>\n",
       "  </tbody>\n",
       "</table>\n",
       "</div>"
      ],
      "text/plain": [
       "   TDCJ Number                  Link   Last Name First Name Date of Birth  \\\n",
       "0       999606  Offender Information      Colone     Joseph    08/13/1978   \n",
       "1       999605  Offender Information        Falk       John    11/19/1966   \n",
       "2       999604  Offender Information  Wells, III       Amos    08/20/1990   \n",
       "3       999603  Offender Information    Brownlow    Charles    09/16/1977   \n",
       "4       999602  Offender Information    Bluntson     Demond    11/25/1975   \n",
       "\n",
       "  Gender   Race Date Received     County Date of Offense  \n",
       "0      M  Black    05/09/2017  Jefferson      07/31/2010  \n",
       "1      M  White    03/01/2017     Walker      09/24/2007  \n",
       "2      M  Black    11/22/2016    Tarrant      07/01/2013  \n",
       "3      M  Black    05/23/2016    Kaufman      10/28/2013  \n",
       "4      M  Black    05/10/2016       Webb      06/19/2012  "
      ]
     },
     "execution_count": 13,
     "metadata": {},
     "output_type": "execute_result"
    }
   ],
   "source": [
    "last_words.head()"
   ]
  },
  {
   "cell_type": "code",
   "execution_count": 14,
   "metadata": {
    "execution": {
     "iopub.execute_input": "2022-05-20T20:10:43.552716Z",
     "iopub.status.busy": "2022-05-20T20:10:43.551981Z",
     "iopub.status.idle": "2022-05-20T20:10:43.567414Z",
     "shell.execute_reply": "2022-05-20T20:10:43.566490Z",
     "shell.execute_reply.started": "2022-05-20T20:10:43.552673Z"
    }
   },
   "outputs": [
    {
     "data": {
      "text/html": [
       "<div>\n",
       "<style scoped>\n",
       "    .dataframe tbody tr th:only-of-type {\n",
       "        vertical-align: middle;\n",
       "    }\n",
       "\n",
       "    .dataframe tbody tr th {\n",
       "        vertical-align: top;\n",
       "    }\n",
       "\n",
       "    .dataframe thead th {\n",
       "        text-align: right;\n",
       "    }\n",
       "</style>\n",
       "<table border=\"1\" class=\"dataframe\">\n",
       "  <thead>\n",
       "    <tr style=\"text-align: right;\">\n",
       "      <th></th>\n",
       "      <th>TDCJ Number</th>\n",
       "      <th>Link</th>\n",
       "      <th>Last Name</th>\n",
       "      <th>First Name</th>\n",
       "      <th>Date of Birth</th>\n",
       "      <th>Gender</th>\n",
       "      <th>Race</th>\n",
       "      <th>Date Received</th>\n",
       "      <th>County</th>\n",
       "      <th>Date of Offense</th>\n",
       "    </tr>\n",
       "  </thead>\n",
       "  <tbody>\n",
       "    <tr>\n",
       "      <th>233</th>\n",
       "      <td>650</td>\n",
       "      <td>Offender Information</td>\n",
       "      <td>Fierro</td>\n",
       "      <td>Cesar</td>\n",
       "      <td>10/18/1956</td>\n",
       "      <td>M</td>\n",
       "      <td>Hispanic</td>\n",
       "      <td>02/26/1980</td>\n",
       "      <td>El Paso</td>\n",
       "      <td>02/27/1979</td>\n",
       "    </tr>\n",
       "    <tr>\n",
       "      <th>234</th>\n",
       "      <td>636</td>\n",
       "      <td>Offender Information</td>\n",
       "      <td>Aranda</td>\n",
       "      <td>Arturo</td>\n",
       "      <td>05/12/1948</td>\n",
       "      <td>M</td>\n",
       "      <td>Hispanic</td>\n",
       "      <td>05/18/1979</td>\n",
       "      <td>Victoria</td>\n",
       "      <td>07/31/1976</td>\n",
       "    </tr>\n",
       "    <tr>\n",
       "      <th>235</th>\n",
       "      <td>609</td>\n",
       "      <td>Offender Information</td>\n",
       "      <td>Jordan</td>\n",
       "      <td>Clarence</td>\n",
       "      <td>04/06/1956</td>\n",
       "      <td>M</td>\n",
       "      <td>Black</td>\n",
       "      <td>09/12/1978</td>\n",
       "      <td>Harris</td>\n",
       "      <td>10/14/1977</td>\n",
       "    </tr>\n",
       "    <tr>\n",
       "      <th>236</th>\n",
       "      <td>577</td>\n",
       "      <td>Offender Information</td>\n",
       "      <td>Earvin</td>\n",
       "      <td>Harvey</td>\n",
       "      <td>04/07/1958</td>\n",
       "      <td>M</td>\n",
       "      <td>Black</td>\n",
       "      <td>10/26/1977</td>\n",
       "      <td>Angelina</td>\n",
       "      <td>12/12/1976</td>\n",
       "    </tr>\n",
       "    <tr>\n",
       "      <th>237</th>\n",
       "      <td>541</td>\n",
       "      <td>Offender Information</td>\n",
       "      <td>Riles</td>\n",
       "      <td>Raymond</td>\n",
       "      <td>06/01/1950</td>\n",
       "      <td>M</td>\n",
       "      <td>Black</td>\n",
       "      <td>02/04/1976</td>\n",
       "      <td>Harris</td>\n",
       "      <td>04/11/1975</td>\n",
       "    </tr>\n",
       "  </tbody>\n",
       "</table>\n",
       "</div>"
      ],
      "text/plain": [
       "     TDCJ Number                  Link Last Name First Name Date of Birth  \\\n",
       "233          650  Offender Information    Fierro      Cesar    10/18/1956   \n",
       "234          636  Offender Information    Aranda     Arturo    05/12/1948   \n",
       "235          609  Offender Information    Jordan   Clarence    04/06/1956   \n",
       "236          577  Offender Information    Earvin     Harvey    04/07/1958   \n",
       "237          541  Offender Information     Riles    Raymond    06/01/1950   \n",
       "\n",
       "    Gender      Race Date Received    County Date of Offense  \n",
       "233      M  Hispanic    02/26/1980   El Paso      02/27/1979  \n",
       "234      M  Hispanic    05/18/1979  Victoria      07/31/1976  \n",
       "235      M     Black    09/12/1978    Harris      10/14/1977  \n",
       "236      M     Black    10/26/1977  Angelina      12/12/1976  \n",
       "237      M     Black    02/04/1976    Harris      04/11/1975  "
      ]
     },
     "execution_count": 14,
     "metadata": {},
     "output_type": "execute_result"
    }
   ],
   "source": [
    "last_words.tail()"
   ]
  },
  {
   "cell_type": "code",
   "execution_count": 15,
   "metadata": {
    "execution": {
     "iopub.execute_input": "2022-05-20T20:04:10.407040Z",
     "iopub.status.busy": "2022-05-20T20:04:10.406410Z",
     "iopub.status.idle": "2022-05-20T20:04:10.547998Z",
     "shell.execute_reply": "2022-05-20T20:04:10.546920Z",
     "shell.execute_reply.started": "2022-05-20T20:04:10.406992Z"
    }
   },
   "outputs": [
    {
     "data": {
      "text/plain": [
       "<AxesSubplot:xlabel='Gender', ylabel='count'>"
      ]
     },
     "execution_count": 15,
     "metadata": {},
     "output_type": "execute_result"
    },
    {
     "data": {
      "image/png": "[encoded data removed]",
      "text/plain": [
       "<Figure size 432x288 with 1 Axes>"
      ]
     },
     "metadata": {
      "needs_background": "light"
     },
     "output_type": "display_data"
    }
   ],
   "source": [
    "#the dataset contains more men than women, only 5 women\n",
    "sns.countplot(x = \"Gender\", data = last_words, palette=\"rocket\")"
   ]
  },
  {
   "cell_type": "code",
   "execution_count": 16,
   "metadata": {
    "execution": {
     "iopub.execute_input": "2022-05-20T20:04:10.569621Z",
     "iopub.status.busy": "2022-05-20T20:04:10.568716Z",
     "iopub.status.idle": "2022-05-20T20:04:10.735502Z",
     "shell.execute_reply": "2022-05-20T20:04:10.734639Z",
     "shell.execute_reply.started": "2022-05-20T20:04:10.569544Z"
    }
   },
   "outputs": [
    {
     "data": {
      "text/plain": [
       "<AxesSubplot:xlabel='Race', ylabel='count'>"
      ]
     },
     "execution_count": 16,
     "metadata": {},
     "output_type": "execute_result"
    },
    {
     "data": {
      "image/png": "[encoded data removed]",
      "text/plain": [
       "<Figure size 432x288 with 1 Axes>"
      ]
     },
     "metadata": {
      "needs_background": "light"
     },
     "output_type": "display_data"
    }
   ],
   "source": [
    "sns.countplot(x = \"Race\", data = last_words, palette=\"rocket\")\n",
    "#data is mostly composed of black men"
   ]
  },
  {
   "cell_type": "markdown",
   "metadata": {},
   "source": [
    "REASON"
   ]
  },
  {
   "cell_type": "code",
   "execution_count": 17,
   "metadata": {
    "execution": {
     "iopub.execute_input": "2022-05-20T20:04:10.791376Z",
     "iopub.status.busy": "2022-05-20T20:04:10.791079Z",
     "iopub.status.idle": "2022-05-20T20:04:10.802492Z",
     "shell.execute_reply": "2022-05-20T20:04:10.801657Z",
     "shell.execute_reply.started": "2022-05-20T20:04:10.791343Z"
    }
   },
   "outputs": [
    {
     "data": {
      "text/html": [
       "<div>\n",
       "<style scoped>\n",
       "    .dataframe tbody tr th:only-of-type {\n",
       "        vertical-align: middle;\n",
       "    }\n",
       "\n",
       "    .dataframe tbody tr th {\n",
       "        vertical-align: top;\n",
       "    }\n",
       "\n",
       "    .dataframe thead th {\n",
       "        text-align: right;\n",
       "    }\n",
       "</style>\n",
       "<table border=\"1\" class=\"dataframe\">\n",
       "  <thead>\n",
       "    <tr style=\"text-align: right;\">\n",
       "      <th></th>\n",
       "      <th>TDCJ Number</th>\n",
       "      <th>Last Name</th>\n",
       "      <th>First Name</th>\n",
       "      <th>Date</th>\n",
       "      <th>Reason</th>\n",
       "    </tr>\n",
       "  </thead>\n",
       "  <tbody>\n",
       "    <tr>\n",
       "      <th>0</th>\n",
       "      <td>507</td>\n",
       "      <td>DeVries</td>\n",
       "      <td>John</td>\n",
       "      <td>07/01/74</td>\n",
       "      <td>Death by suicide</td>\n",
       "    </tr>\n",
       "    <tr>\n",
       "      <th>1</th>\n",
       "      <td>508</td>\n",
       "      <td>Jurek</td>\n",
       "      <td>Jerry</td>\n",
       "      <td>01/29/82</td>\n",
       "      <td>Sentence reduced to life, #330521</td>\n",
       "    </tr>\n",
       "    <tr>\n",
       "      <th>2</th>\n",
       "      <td>509</td>\n",
       "      <td>Freeman</td>\n",
       "      <td>Leonard</td>\n",
       "      <td>03/23/83</td>\n",
       "      <td>Conviction reduced to murder with malice afore...</td>\n",
       "    </tr>\n",
       "    <tr>\n",
       "      <th>3</th>\n",
       "      <td>510</td>\n",
       "      <td>Burns</td>\n",
       "      <td>James</td>\n",
       "      <td>02/19/82</td>\n",
       "      <td>Sentence reduced to life, #315964</td>\n",
       "    </tr>\n",
       "    <tr>\n",
       "      <th>4</th>\n",
       "      <td>513</td>\n",
       "      <td>Moore</td>\n",
       "      <td>Mark</td>\n",
       "      <td>09/24/82</td>\n",
       "      <td>Sentence reduced to life, #343068</td>\n",
       "    </tr>\n",
       "  </tbody>\n",
       "</table>\n",
       "</div>"
      ],
      "text/plain": [
       "   TDCJ Number Last Name First Name      Date  \\\n",
       "0          507   DeVries       John  07/01/74   \n",
       "1          508     Jurek      Jerry  01/29/82   \n",
       "2          509   Freeman    Leonard  03/23/83   \n",
       "3          510     Burns      James  02/19/82   \n",
       "4          513     Moore       Mark  09/24/82   \n",
       "\n",
       "                                              Reason  \n",
       "0                                   Death by suicide  \n",
       "1                  Sentence reduced to life, #330521  \n",
       "2  Conviction reduced to murder with malice afore...  \n",
       "3                  Sentence reduced to life, #315964  \n",
       "4                  Sentence reduced to life, #343068  "
      ]
     },
     "execution_count": 17,
     "metadata": {},
     "output_type": "execute_result"
    }
   ],
   "source": [
    "reason.head()"
   ]
  },
  {
   "cell_type": "code",
   "execution_count": 18,
   "metadata": {
    "execution": {
     "iopub.execute_input": "2022-05-20T20:04:10.947966Z",
     "iopub.status.busy": "2022-05-20T20:04:10.947538Z",
     "iopub.status.idle": "2022-05-20T20:04:17.946465Z",
     "shell.execute_reply": "2022-05-20T20:04:17.945865Z",
     "shell.execute_reply.started": "2022-05-20T20:04:10.947935Z"
    }
   },
   "outputs": [
    {
     "data": {
      "text/plain": [
       "<AxesSubplot:xlabel='Reason', ylabel='count'>"
      ]
     },
     "execution_count": 18,
     "metadata": {},
     "output_type": "execute_result"
    },
    {
     "data": {
      "image/png": "[encoded data removed]",
      "text/plain": [
       "<Figure size 432x288 with 1 Axes>"
      ]
     },
     "metadata": {
      "needs_background": "light"
     },
     "output_type": "display_data"
    }
   ],
   "source": [
    "sns.countplot(x = \"Reason\", data = reason, palette=\"rocket\")"
   ]
  },
  {
   "cell_type": "code",
   "execution_count": 19,
   "metadata": {
    "execution": {
     "iopub.execute_input": "2022-05-20T20:25:17.181024Z",
     "iopub.status.busy": "2022-05-20T20:25:17.180723Z",
     "iopub.status.idle": "2022-05-20T20:25:17.186459Z",
     "shell.execute_reply": "2022-05-20T20:25:17.185514Z",
     "shell.execute_reply.started": "2022-05-20T20:25:17.180998Z"
    }
   },
   "outputs": [],
   "source": [
    "suicide = [1 if 'suicide' in s.lower() else 0 for s in reason['Reason']]"
   ]
  },
  {
   "cell_type": "code",
   "execution_count": 20,
   "metadata": {
    "execution": {
     "iopub.execute_input": "2022-05-20T20:25:19.118022Z",
     "iopub.status.busy": "2022-05-20T20:25:19.117726Z",
     "iopub.status.idle": "2022-05-20T20:25:19.121767Z",
     "shell.execute_reply": "2022-05-20T20:25:19.120833Z",
     "shell.execute_reply.started": "2022-05-20T20:25:19.117992Z"
    }
   },
   "outputs": [],
   "source": [
    "#suicide"
   ]
  },
  {
   "cell_type": "code",
   "execution_count": 21,
   "metadata": {
    "execution": {
     "iopub.execute_input": "2022-05-20T20:25:20.696676Z",
     "iopub.status.busy": "2022-05-20T20:25:20.696407Z",
     "iopub.status.idle": "2022-05-20T20:25:20.707935Z",
     "shell.execute_reply": "2022-05-20T20:25:20.707063Z",
     "shell.execute_reply.started": "2022-05-20T20:25:20.696649Z"
    }
   },
   "outputs": [
    {
     "data": {
      "text/html": [
       "<div>\n",
       "<style scoped>\n",
       "    .dataframe tbody tr th:only-of-type {\n",
       "        vertical-align: middle;\n",
       "    }\n",
       "\n",
       "    .dataframe tbody tr th {\n",
       "        vertical-align: top;\n",
       "    }\n",
       "\n",
       "    .dataframe thead th {\n",
       "        text-align: right;\n",
       "    }\n",
       "</style>\n",
       "<table border=\"1\" class=\"dataframe\">\n",
       "  <thead>\n",
       "    <tr style=\"text-align: right;\">\n",
       "      <th></th>\n",
       "      <th>TDCJ Number</th>\n",
       "      <th>Last Name</th>\n",
       "      <th>First Name</th>\n",
       "      <th>Date</th>\n",
       "      <th>Reason</th>\n",
       "    </tr>\n",
       "  </thead>\n",
       "  <tbody>\n",
       "    <tr>\n",
       "      <th>314</th>\n",
       "      <td>999530</td>\n",
       "      <td>Smith, Jr.</td>\n",
       "      <td>Roosevelt</td>\n",
       "      <td>01/10/13</td>\n",
       "      <td>Sentence commuted from death to life without p...</td>\n",
       "    </tr>\n",
       "    <tr>\n",
       "      <th>315</th>\n",
       "      <td>999532</td>\n",
       "      <td>Williams</td>\n",
       "      <td>Antonio</td>\n",
       "      <td>02/19/15</td>\n",
       "      <td>Death by suicide.</td>\n",
       "    </tr>\n",
       "    <tr>\n",
       "      <th>316</th>\n",
       "      <td>999540</td>\n",
       "      <td>Velez</td>\n",
       "      <td>Manuel</td>\n",
       "      <td>06/19/13</td>\n",
       "      <td>Cause remanded for new punishment hearing.</td>\n",
       "    </tr>\n",
       "    <tr>\n",
       "      <th>317</th>\n",
       "      <td>999546</td>\n",
       "      <td>Olsen</td>\n",
       "      <td>Christian</td>\n",
       "      <td>02/02/16</td>\n",
       "      <td>Sentence commuted from death to life.</td>\n",
       "    </tr>\n",
       "    <tr>\n",
       "      <th>318</th>\n",
       "      <td>999574</td>\n",
       "      <td>Griffin</td>\n",
       "      <td>Stanley</td>\n",
       "      <td>07/08/16</td>\n",
       "      <td>Mandate received, awaiting new punishment hear...</td>\n",
       "    </tr>\n",
       "  </tbody>\n",
       "</table>\n",
       "</div>"
      ],
      "text/plain": [
       "     TDCJ Number   Last Name First Name      Date  \\\n",
       "314       999530  Smith, Jr.  Roosevelt  01/10/13   \n",
       "315       999532    Williams    Antonio  02/19/15   \n",
       "316       999540       Velez     Manuel  06/19/13   \n",
       "317       999546       Olsen  Christian  02/02/16   \n",
       "318       999574     Griffin    Stanley  07/08/16   \n",
       "\n",
       "                                                Reason  \n",
       "314  Sentence commuted from death to life without p...  \n",
       "315                                  Death by suicide.  \n",
       "316         Cause remanded for new punishment hearing.  \n",
       "317              Sentence commuted from death to life.  \n",
       "318  Mandate received, awaiting new punishment hear...  "
      ]
     },
     "execution_count": 21,
     "metadata": {},
     "output_type": "execute_result"
    }
   ],
   "source": [
    "reason.tail()"
   ]
  },
  {
   "cell_type": "code",
   "execution_count": 22,
   "metadata": {
    "execution": {
     "iopub.execute_input": "2022-05-20T20:25:20.809459Z",
     "iopub.status.busy": "2022-05-20T20:25:20.808531Z",
     "iopub.status.idle": "2022-05-20T20:25:20.813945Z",
     "shell.execute_reply": "2022-05-20T20:25:20.813314Z",
     "shell.execute_reply.started": "2022-05-20T20:25:20.809415Z"
    }
   },
   "outputs": [],
   "source": [
    "count = 0\n",
    "for s in suicide:\n",
    "    if s == 1:\n",
    "        count = count + 1\n",
    "else:\n",
    "    pass"
   ]
  },
  {
   "cell_type": "code",
   "execution_count": 23,
   "metadata": {
    "execution": {
     "iopub.execute_input": "2022-05-20T20:25:22.148818Z",
     "iopub.status.busy": "2022-05-20T20:25:22.148231Z",
     "iopub.status.idle": "2022-05-20T20:25:22.154954Z",
     "shell.execute_reply": "2022-05-20T20:25:22.154364Z",
     "shell.execute_reply.started": "2022-05-20T20:25:22.148778Z"
    }
   },
   "outputs": [
    {
     "data": {
      "text/plain": [
       "12"
      ]
     },
     "execution_count": 23,
     "metadata": {},
     "output_type": "execute_result"
    }
   ],
   "source": [
    "count\n",
    "#out of 318 people there were only 12 who killed themselves"
   ]
  },
  {
   "cell_type": "code",
   "execution_count": 24,
   "metadata": {
    "execution": {
     "iopub.execute_input": "2022-05-20T20:25:23.794563Z",
     "iopub.status.busy": "2022-05-20T20:25:23.794268Z",
     "iopub.status.idle": "2022-05-20T20:25:23.799845Z",
     "shell.execute_reply": "2022-05-20T20:25:23.799210Z",
     "shell.execute_reply.started": "2022-05-20T20:25:23.794530Z"
    }
   },
   "outputs": [
    {
     "data": {
      "text/plain": [
       "3.7735849056603774"
      ]
     },
     "execution_count": 24,
     "metadata": {},
     "output_type": "execute_result"
    }
   ],
   "source": [
    "12/318*100\n",
    "#the suicidal rate was 3.77%"
   ]
  },
  {
   "cell_type": "code",
   "execution_count": null,
   "metadata": {},
   "outputs": [],
   "source": []
  }
 ],
 "metadata": {
  "kernelspec": {
   "display_name": "Python 3",
   "language": "python",
   "name": "python3"
  },
  "language_info": {
   "codemirror_mode": {
    "name": "ipython",
    "version": 3
   },
   "file_extension": ".py",
   "mimetype": "text/x-python",
   "name": "python",
   "nbconvert_exporter": "python",
   "pygments_lexer": "ipython3",
   "version": "3.8.8"
  }
 },
 "nbformat": 4,
 "nbformat_minor": 4
}
